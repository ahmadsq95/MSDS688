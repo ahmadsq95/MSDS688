{
 "cells": [
  {
   "cell_type": "code",
   "execution_count": 1,
   "id": "ab155181",
   "metadata": {},
   "outputs": [],
   "source": [
    "def is_even(x):\n",
    "    \"\"\"If x is even, returns True; otherwise returns False\"\"\"\n",
    "    if (x % 2) == 0:\n",
    "        return True\n",
    "    else:\n",
    "        return False\n",
    "    raise NotImplementedError"
   ]
  },
  {
   "cell_type": "code",
   "execution_count": 2,
   "id": "26089be2",
   "metadata": {},
   "outputs": [
    {
     "data": {
      "text/plain": [
       "False"
      ]
     },
     "execution_count": 2,
     "metadata": {},
     "output_type": "execute_result"
    }
   ],
   "source": [
    "is_even(11)"
   ]
  },
  {
   "cell_type": "code",
   "execution_count": 3,
   "id": "17237d62",
   "metadata": {},
   "outputs": [
    {
     "data": {
      "text/plain": [
       "True"
      ]
     },
     "execution_count": 3,
     "metadata": {},
     "output_type": "execute_result"
    }
   ],
   "source": [
    "is_even(12)"
   ]
  },
  {
   "cell_type": "code",
   "execution_count": 4,
   "id": "95dc2c88",
   "metadata": {},
   "outputs": [],
   "source": [
    "def decrement(x):\n",
    "    \"\"\"Given a number x, returns x - 1 unless that would be less than\n",
    "    zero, in which case returns 0.\"\"\"\n",
    "    x = x - 1\n",
    "    if x > 0:\n",
    "        return x\n",
    "    else:\n",
    "        return 0\n",
    "    raise NotImplementedError\n"
   ]
  },
  {
   "cell_type": "code",
   "execution_count": 5,
   "id": "5d6d161d",
   "metadata": {},
   "outputs": [
    {
     "data": {
      "text/plain": [
       "9"
      ]
     },
     "execution_count": 5,
     "metadata": {},
     "output_type": "execute_result"
    }
   ],
   "source": [
    "decrement(10)"
   ]
  },
  {
   "cell_type": "code",
   "execution_count": 6,
   "id": "284ba25b",
   "metadata": {},
   "outputs": [
    {
     "data": {
      "text/plain": [
       "0"
      ]
     },
     "execution_count": 6,
     "metadata": {},
     "output_type": "execute_result"
    }
   ],
   "source": [
    "decrement(0)"
   ]
  },
  {
   "cell_type": "code",
   "execution_count": 7,
   "id": "54543e34",
   "metadata": {},
   "outputs": [
    {
     "data": {
      "text/plain": [
       "0"
      ]
     },
     "execution_count": 7,
     "metadata": {},
     "output_type": "execute_result"
    }
   ],
   "source": [
    "decrement(-5)"
   ]
  },
  {
   "cell_type": "code",
   "execution_count": 9,
   "id": "22289131",
   "metadata": {},
   "outputs": [
    {
     "data": {
      "text/plain": [
       "0"
      ]
     },
     "execution_count": 9,
     "metadata": {},
     "output_type": "execute_result"
    }
   ],
   "source": [
    "decrement(1)"
   ]
  },
  {
   "cell_type": "code",
   "execution_count": 10,
   "id": "285d4760",
   "metadata": {},
   "outputs": [],
   "source": [
    "def cube(x):\n",
    "    \"\"\"Given a number x, returns its cube (x^3)\"\"\"\n",
    "    return x*x*x\n",
    "    raise NotImplementedError"
   ]
  },
  {
   "cell_type": "code",
   "execution_count": 12,
   "id": "2fe49811",
   "metadata": {},
   "outputs": [
    {
     "data": {
      "text/plain": [
       "27"
      ]
     },
     "execution_count": 12,
     "metadata": {},
     "output_type": "execute_result"
    }
   ],
   "source": [
    "cube(3)"
   ]
  },
  {
   "cell_type": "code",
   "execution_count": 13,
   "id": "23a01676",
   "metadata": {},
   "outputs": [],
   "source": [
    "def is_prime(x):\n",
    "    \"\"\"Given a number x, returns True if it is prime; otherwise returns False\"\"\"\n",
    "    if x > 1:\n",
    "        for i in range(2 , x):\n",
    "            if (x % i) == 0:\n",
    "                return False\n",
    "                break\n",
    "            else:\n",
    "                return True\n",
    "    else:\n",
    "        return False\n",
    "    raise NotImplementedError"
   ]
  },
  {
   "cell_type": "code",
   "execution_count": 14,
   "id": "fe90798b",
   "metadata": {},
   "outputs": [
    {
     "data": {
      "text/plain": [
       "True"
      ]
     },
     "execution_count": 14,
     "metadata": {},
     "output_type": "execute_result"
    }
   ],
   "source": [
    "is_prime(11)"
   ]
  },
  {
   "cell_type": "code",
   "execution_count": 15,
   "id": "2b52d82c",
   "metadata": {},
   "outputs": [
    {
     "data": {
      "text/plain": [
       "False"
      ]
     },
     "execution_count": 15,
     "metadata": {},
     "output_type": "execute_result"
    }
   ],
   "source": [
    "is_prime(12)"
   ]
  },
  {
   "cell_type": "code",
   "execution_count": 16,
   "id": "5b87a3f1",
   "metadata": {},
   "outputs": [
    {
     "data": {
      "text/plain": [
       "True"
      ]
     },
     "execution_count": 16,
     "metadata": {},
     "output_type": "execute_result"
    }
   ],
   "source": [
    "is_prime(7)"
   ]
  },
  {
   "cell_type": "code",
   "execution_count": 94,
   "id": "701f82b3",
   "metadata": {},
   "outputs": [],
   "source": [
    "def primes_up_to(x):\n",
    "    \"\"\"Given a number x, returns an in-order list of all primes up to and including x\"\"\"\n",
    "\n",
    "    primes = []\n",
    "    \n",
    "    for i in range(2, x):\n",
    "        d = 0\n",
    "        for j in range(2,i):\n",
    "            if i%j==0:\n",
    "                d+=1\n",
    "        if d == 0 or i ==2:\n",
    "            primes.append(i)\n",
    "    return primes \n",
    "    raise NotImplementedError\n",
    "\n"
   ]
  },
  {
   "cell_type": "code",
   "execution_count": 97,
   "id": "a0745edb",
   "metadata": {},
   "outputs": [
    {
     "data": {
      "text/plain": [
       "[2,\n",
       " 3,\n",
       " 5,\n",
       " 7,\n",
       " 11,\n",
       " 13,\n",
       " 17,\n",
       " 19,\n",
       " 23,\n",
       " 29,\n",
       " 31,\n",
       " 37,\n",
       " 41,\n",
       " 43,\n",
       " 47,\n",
       " 53,\n",
       " 59,\n",
       " 61,\n",
       " 67,\n",
       " 71,\n",
       " 73,\n",
       " 79,\n",
       " 83,\n",
       " 89,\n",
       " 97]"
      ]
     },
     "execution_count": 97,
     "metadata": {},
     "output_type": "execute_result"
    }
   ],
   "source": [
    "primes_up_to(100)"
   ]
  },
  {
   "cell_type": "code",
   "execution_count": 98,
   "id": "9e788fa6",
   "metadata": {},
   "outputs": [],
   "source": [
    "def fibonacci(n):\n",
    "    \"\"\"Given a positive int n, uses recursion to return the nth Fibonacci number.\"\"\"\n",
    "    if n == 1:\n",
    "        return 0\n",
    "    elif n == 2:\n",
    "        return 1\n",
    "    else:\n",
    "        return fibonacci(n-1) + fibonacci(n-2)\n",
    "    raise NotImplementedError"
   ]
  },
  {
   "cell_type": "code",
   "execution_count": 101,
   "id": "eb06ac9d",
   "metadata": {},
   "outputs": [
    {
     "data": {
      "text/plain": [
       "21"
      ]
     },
     "execution_count": 101,
     "metadata": {},
     "output_type": "execute_result"
    }
   ],
   "source": [
    "fibonacci(9)"
   ]
  },
  {
   "cell_type": "code",
   "execution_count": 102,
   "id": "f2a1ab3c",
   "metadata": {},
   "outputs": [],
   "source": [
    "def expression_depth(expr):\n",
    "    \"\"\"Given an expression expressed as Python lists, uses recursion to return\n",
    "    the depth of the expression, where depth is defined by the maximum number of\n",
    "    nested operations.\"\"\"\n",
    "    if not isinstance(expr, tuple):\n",
    "        return 0\n",
    "    # this says: return the maximum depth of any sub-expression + 1\n",
    "    return max(map(expression_depth, expr)) + 1\n",
    "    raise NotImplementedError"
   ]
  },
  {
   "cell_type": "code",
   "execution_count": 107,
   "id": "2b7253d7",
   "metadata": {},
   "outputs": [
    {
     "data": {
      "text/plain": [
       "4"
      ]
     },
     "execution_count": 107,
     "metadata": {},
     "output_type": "execute_result"
    }
   ],
   "source": [
    "expression_depth(('/', ('expt', 'x', 5), ('expt', ('-', ('expt', 'x', 2), 1), ('/', 5, 2)))) "
   ]
  },
  {
   "cell_type": "code",
   "execution_count": null,
   "id": "dce56a3d",
   "metadata": {},
   "outputs": [],
   "source": []
  }
 ],
 "metadata": {
  "kernelspec": {
   "display_name": "Python 3 (ipykernel)",
   "language": "python",
   "name": "python3"
  },
  "language_info": {
   "codemirror_mode": {
    "name": "ipython",
    "version": 3
   },
   "file_extension": ".py",
   "mimetype": "text/x-python",
   "name": "python",
   "nbconvert_exporter": "python",
   "pygments_lexer": "ipython3",
   "version": "3.8.10"
  }
 },
 "nbformat": 4,
 "nbformat_minor": 5
}
